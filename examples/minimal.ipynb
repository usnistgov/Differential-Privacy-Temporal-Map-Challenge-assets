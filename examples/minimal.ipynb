{
 "cells": [
  {
   "cell_type": "code",
   "execution_count": null,
   "id": "946f4143",
   "metadata": {},
   "outputs": [],
   "source": [
    "import matplotlib.pyplot as plt\n",
    "import sdnist"
   ]
  },
  {
   "cell_type": "markdown",
   "id": "c2ffe2d4",
   "metadata": {},
   "source": [
    "1. Load the public dataset :"
   ]
  },
  {
   "cell_type": "code",
   "execution_count": null,
   "id": "c7ba484b",
   "metadata": {},
   "outputs": [],
   "source": [
    "public_data, schema = sdnist.census(public=True)\n",
    "dataset_path = sdnist.load.build_name(challenge='census', public=True)\n",
    "public_data"
   ]
  },
  {
   "cell_type": "markdown",
   "id": "b498877f",
   "metadata": {},
   "source": [
    "2. Compute k-marginal scores :"
   ]
  },
  {
   "cell_type": "code",
   "execution_count": null,
   "id": "618c29f5",
   "metadata": {},
   "outputs": [],
   "source": [
    "fracs = (0.02, 0.1, 0.5)\n",
    "scores = []\n",
    "\n",
    "for i, frac in enumerate(fracs):\n",
    "    synthetic_data = public_data.sample(frac=frac)\n",
    "    score = sdnist.score(public_data, synthetic_data, schema, challenge=\"census\")\n",
    "    scores.append(score)\n",
    "    score.boxplot(idx=i, name=str(frac))\n",
    "    \n",
    "plt.ylabel(\"Subsample fraction\")\n",
    "plt.xlabel(\"K-marginal score\")\n",
    "plt.title(f\"Scores of subsampled datasets (census)\")\n",
    "plt.savefig(\"census_subsample.pdf\")\n",
    "\n",
    "scores"
   ]
  },
  {
   "cell_type": "markdown",
   "id": "318268c7",
   "metadata": {},
   "source": [
    "3. Display the k-marginal score"
   ]
  },
  {
   "cell_type": "code",
   "execution_count": null,
   "id": "55cffca1",
   "metadata": {},
   "outputs": [],
   "source": [
    "# As a map (only works on the public dataset - IL/OH)\n",
    "print(dataset_path)\n",
    "scores[0].html(dataset_path, schema)"
   ]
  },
  {
   "cell_type": "code",
   "execution_count": null,
   "id": "8567d8c6",
   "metadata": {},
   "outputs": [],
   "source": []
  }
 ],
 "metadata": {
  "kernelspec": {
   "display_name": "knexusnlp",
   "language": "python",
   "name": "knexusnlp"
  },
  "language_info": {
   "codemirror_mode": {
    "name": "ipython",
    "version": 3
   },
   "file_extension": ".py",
   "mimetype": "text/x-python",
   "name": "python",
   "nbconvert_exporter": "python",
   "pygments_lexer": "ipython3",
   "version": "3.7.10"
  }
 },
 "nbformat": 4,
 "nbformat_minor": 5
}
